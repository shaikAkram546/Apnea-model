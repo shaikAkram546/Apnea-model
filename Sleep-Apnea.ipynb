{
 "cells": [
  {
   "cell_type": "code",
   "execution_count": 1,
   "id": "82b943f9-8456-430f-afa8-4cacb450385f",
   "metadata": {},
   "outputs": [
    {
     "name": "stdout",
     "output_type": "stream",
     "text": [
      "Dataset Head:\n",
      "   time  nasal_airflow  apnea_event  hypopnea_event     event  recording\n",
      "0  0.00       0.010615            0               0    normal          0\n",
      "1  0.01      -0.022384            0               1  hypopnea          0\n",
      "2  0.02      -0.055600            0               0    normal          0\n",
      "3  0.03       0.069761            0               0    normal          0\n",
      "4  0.04      -0.112263            0               0    normal          0\n",
      "\n",
      "Missing Values:\n",
      "time              0\n",
      "nasal_airflow     0\n",
      "apnea_event       0\n",
      "hypopnea_event    0\n",
      "event             0\n",
      "recording         0\n",
      "dtype: int64\n",
      "\n",
      "Event Distribution:\n",
      "event\n",
      "normal      512927\n",
      "hypopnea     56988\n",
      "apnea        30085\n",
      "Name: count, dtype: int64\n"
     ]
    },
    {
     "data": {
      "text/html": [
       "<pre style=\"white-space:pre;overflow-x:auto;line-height:normal;font-family:Menlo,'DejaVu Sans Mono',consolas,'Courier New',monospace\"><span style=\"font-weight: bold\">Model: \"sequential\"</span>\n",
       "</pre>\n"
      ],
      "text/plain": [
       "\u001b[1mModel: \"sequential\"\u001b[0m\n"
      ]
     },
     "metadata": {},
     "output_type": "display_data"
    },
    {
     "data": {
      "text/html": [
       "<pre style=\"white-space:pre;overflow-x:auto;line-height:normal;font-family:Menlo,'DejaVu Sans Mono',consolas,'Courier New',monospace\">┏━━━━━━━━━━━━━━━━━━━━━━━━━━━━━━━━━━━━━━┳━━━━━━━━━━━━━━━━━━━━━━━━━━━━━┳━━━━━━━━━━━━━━━━━┓\n",
       "┃<span style=\"font-weight: bold\"> Layer (type)                         </span>┃<span style=\"font-weight: bold\"> Output Shape                </span>┃<span style=\"font-weight: bold\">         Param # </span>┃\n",
       "┡━━━━━━━━━━━━━━━━━━━━━━━━━━━━━━━━━━━━━━╇━━━━━━━━━━━━━━━━━━━━━━━━━━━━━╇━━━━━━━━━━━━━━━━━┩\n",
       "│ lstm (<span style=\"color: #0087ff; text-decoration-color: #0087ff\">LSTM</span>)                          │ (<span style=\"color: #00d7ff; text-decoration-color: #00d7ff\">None</span>, <span style=\"color: #00af00; text-decoration-color: #00af00\">50</span>)                  │          <span style=\"color: #00af00; text-decoration-color: #00af00\">10,400</span> │\n",
       "├──────────────────────────────────────┼─────────────────────────────┼─────────────────┤\n",
       "│ dense (<span style=\"color: #0087ff; text-decoration-color: #0087ff\">Dense</span>)                        │ (<span style=\"color: #00d7ff; text-decoration-color: #00d7ff\">None</span>, <span style=\"color: #00af00; text-decoration-color: #00af00\">3</span>)                   │             <span style=\"color: #00af00; text-decoration-color: #00af00\">153</span> │\n",
       "└──────────────────────────────────────┴─────────────────────────────┴─────────────────┘\n",
       "</pre>\n"
      ],
      "text/plain": [
       "┏━━━━━━━━━━━━━━━━━━━━━━━━━━━━━━━━━━━━━━┳━━━━━━━━━━━━━━━━━━━━━━━━━━━━━┳━━━━━━━━━━━━━━━━━┓\n",
       "┃\u001b[1m \u001b[0m\u001b[1mLayer (type)                        \u001b[0m\u001b[1m \u001b[0m┃\u001b[1m \u001b[0m\u001b[1mOutput Shape               \u001b[0m\u001b[1m \u001b[0m┃\u001b[1m \u001b[0m\u001b[1m        Param #\u001b[0m\u001b[1m \u001b[0m┃\n",
       "┡━━━━━━━━━━━━━━━━━━━━━━━━━━━━━━━━━━━━━━╇━━━━━━━━━━━━━━━━━━━━━━━━━━━━━╇━━━━━━━━━━━━━━━━━┩\n",
       "│ lstm (\u001b[38;5;33mLSTM\u001b[0m)                          │ (\u001b[38;5;45mNone\u001b[0m, \u001b[38;5;34m50\u001b[0m)                  │          \u001b[38;5;34m10,400\u001b[0m │\n",
       "├──────────────────────────────────────┼─────────────────────────────┼─────────────────┤\n",
       "│ dense (\u001b[38;5;33mDense\u001b[0m)                        │ (\u001b[38;5;45mNone\u001b[0m, \u001b[38;5;34m3\u001b[0m)                   │             \u001b[38;5;34m153\u001b[0m │\n",
       "└──────────────────────────────────────┴─────────────────────────────┴─────────────────┘\n"
      ]
     },
     "metadata": {},
     "output_type": "display_data"
    },
    {
     "data": {
      "text/html": [
       "<pre style=\"white-space:pre;overflow-x:auto;line-height:normal;font-family:Menlo,'DejaVu Sans Mono',consolas,'Courier New',monospace\"><span style=\"font-weight: bold\"> Total params: </span><span style=\"color: #00af00; text-decoration-color: #00af00\">10,553</span> (41.22 KB)\n",
       "</pre>\n"
      ],
      "text/plain": [
       "\u001b[1m Total params: \u001b[0m\u001b[38;5;34m10,553\u001b[0m (41.22 KB)\n"
      ]
     },
     "metadata": {},
     "output_type": "display_data"
    },
    {
     "data": {
      "text/html": [
       "<pre style=\"white-space:pre;overflow-x:auto;line-height:normal;font-family:Menlo,'DejaVu Sans Mono',consolas,'Courier New',monospace\"><span style=\"font-weight: bold\"> Trainable params: </span><span style=\"color: #00af00; text-decoration-color: #00af00\">10,553</span> (41.22 KB)\n",
       "</pre>\n"
      ],
      "text/plain": [
       "\u001b[1m Trainable params: \u001b[0m\u001b[38;5;34m10,553\u001b[0m (41.22 KB)\n"
      ]
     },
     "metadata": {},
     "output_type": "display_data"
    },
    {
     "data": {
      "text/html": [
       "<pre style=\"white-space:pre;overflow-x:auto;line-height:normal;font-family:Menlo,'DejaVu Sans Mono',consolas,'Courier New',monospace\"><span style=\"font-weight: bold\"> Non-trainable params: </span><span style=\"color: #00af00; text-decoration-color: #00af00\">0</span> (0.00 B)\n",
       "</pre>\n"
      ],
      "text/plain": [
       "\u001b[1m Non-trainable params: \u001b[0m\u001b[38;5;34m0\u001b[0m (0.00 B)\n"
      ]
     },
     "metadata": {},
     "output_type": "display_data"
    },
    {
     "name": "stdout",
     "output_type": "stream",
     "text": [
      "Epoch 1/10\n",
      "\u001b[1m14998/14998\u001b[0m \u001b[32m━━━━━━━━━━━━━━━━━━━━\u001b[0m\u001b[37m\u001b[0m \u001b[1m1064s\u001b[0m 71ms/step - accuracy: 0.8531 - loss: 0.5145 - val_accuracy: 0.8549 - val_loss: 0.5082\n",
      "Epoch 2/10\n",
      "\u001b[1m14998/14998\u001b[0m \u001b[32m━━━━━━━━━━━━━━━━━━━━\u001b[0m\u001b[37m\u001b[0m \u001b[1m18372s\u001b[0m 1s/step - accuracy: 0.8549 - loss: 0.5082 - val_accuracy: 0.8549 - val_loss: 0.5076\n",
      "Epoch 3/10\n",
      "\u001b[1m14998/14998\u001b[0m \u001b[32m━━━━━━━━━━━━━━━━━━━━\u001b[0m\u001b[37m\u001b[0m \u001b[1m1056s\u001b[0m 70ms/step - accuracy: 0.8545 - loss: 0.5092 - val_accuracy: 0.8549 - val_loss: 0.5083\n",
      "Epoch 4/10\n",
      "\u001b[1m14998/14998\u001b[0m \u001b[32m━━━━━━━━━━━━━━━━━━━━\u001b[0m\u001b[37m\u001b[0m \u001b[1m1013s\u001b[0m 68ms/step - accuracy: 0.8560 - loss: 0.5053 - val_accuracy: 0.8549 - val_loss: 0.5076\n",
      "Epoch 5/10\n",
      "\u001b[1m14998/14998\u001b[0m \u001b[32m━━━━━━━━━━━━━━━━━━━━\u001b[0m\u001b[37m\u001b[0m \u001b[1m1017s\u001b[0m 68ms/step - accuracy: 0.8555 - loss: 0.5066 - val_accuracy: 0.8549 - val_loss: 0.5076\n",
      "Epoch 6/10\n",
      "\u001b[1m14998/14998\u001b[0m \u001b[32m━━━━━━━━━━━━━━━━━━━━\u001b[0m\u001b[37m\u001b[0m \u001b[1m4963s\u001b[0m 331ms/step - accuracy: 0.8550 - loss: 0.5079 - val_accuracy: 0.8549 - val_loss: 0.5075\n",
      "Epoch 7/10\n",
      "\u001b[1m14998/14998\u001b[0m \u001b[32m━━━━━━━━━━━━━━━━━━━━\u001b[0m\u001b[37m\u001b[0m \u001b[1m935s\u001b[0m 62ms/step - accuracy: 0.8550 - loss: 0.5077 - val_accuracy: 0.8549 - val_loss: 0.5076\n",
      "Epoch 8/10\n",
      "\u001b[1m14998/14998\u001b[0m \u001b[32m━━━━━━━━━━━━━━━━━━━━\u001b[0m\u001b[37m\u001b[0m \u001b[1m810s\u001b[0m 54ms/step - accuracy: 0.8547 - loss: 0.5084 - val_accuracy: 0.8549 - val_loss: 0.5075\n",
      "Epoch 9/10\n",
      "\u001b[1m14998/14998\u001b[0m \u001b[32m━━━━━━━━━━━━━━━━━━━━\u001b[0m\u001b[37m\u001b[0m \u001b[1m782s\u001b[0m 52ms/step - accuracy: 0.8544 - loss: 0.5093 - val_accuracy: 0.8549 - val_loss: 0.5078\n",
      "Epoch 10/10\n",
      "\u001b[1m14998/14998\u001b[0m \u001b[32m━━━━━━━━━━━━━━━━━━━━\u001b[0m\u001b[37m\u001b[0m \u001b[1m798s\u001b[0m 52ms/step - accuracy: 0.8544 - loss: 0.5091 - val_accuracy: 0.8549 - val_loss: 0.5075\n",
      "\u001b[1m3750/3750\u001b[0m \u001b[32m━━━━━━━━━━━━━━━━━━━━\u001b[0m\u001b[37m\u001b[0m \u001b[1m65s\u001b[0m 17ms/step - accuracy: 0.8553 - loss: 0.5066\n",
      "Test Accuracy: 0.8549\n"
     ]
    },
    {
     "data": {
      "image/png": "[encoded data removed]",
      "text/plain": [
       "<Figure size 640x480 with 1 Axes>"
      ]
     },
     "metadata": {},
     "output_type": "display_data"
    },
    {
     "name": "stdout",
     "output_type": "stream",
     "text": [
      "\n",
      "Model saved as 'apnea_detection_lstm_model.h5'.\n"
     ]
    },
    {
     "data": {
      "text/plain": [
       "\"\\nfrom flask import Flask, request, jsonify\\nimport numpy as np\\nfrom tensorflow.keras.models import load_model\\n\\napp = Flask(__name__)\\n\\n# Load the model\\nmodel = load_model('apnea_detection_lstm_model.h5')\\n\\n@app.route('/predict', methods=['POST'])\\ndef predict():\\n    data = request.json['data']  # Input sequence\\n    data = np.array(data).reshape(1, timesteps, 1)  # Reshape for LSTM input\\n    prediction = model.predict(data)\\n    predicted_class = np.argmax(prediction, axis=1)\\n    return jsonify({'prediction': int(predicted_class[0])})\\n\\nif __name__ == '__main__':\\n    app.run(debug=True)\\n\""
      ]
     },
     "execution_count": 1,
     "metadata": {},
     "output_type": "execute_result"
    }
   ],
   "source": [
    "# Step 1: Import Required Libraries\n",
    "import pandas as pd\n",
    "import numpy as np\n",
    "from sklearn.preprocessing import StandardScaler, LabelEncoder\n",
    "from sklearn.model_selection import train_test_split\n",
    "from tensorflow.keras.models import Sequential\n",
    "from tensorflow.keras.layers import Input,LSTM, Dense, Dropout\n",
    "from tensorflow.keras.utils import to_categorical\n",
    "from tensorflow import keras\n",
    "import matplotlib.pyplot as plt\n",
    "\n",
    "# Step 2: Load the Dataset\n",
    "data = pd.read_csv('enhanced_respiration_data.csv')\n",
    "\n",
    "# Inspecting the dataset\n",
    "print(\"Dataset Head:\")\n",
    "print(data.head())\n",
    "print(\"\\nMissing Values:\")\n",
    "print(data.isnull().sum())\n",
    "print(\"\\nEvent Distribution:\")\n",
    "print(data['event'].value_counts())\n",
    "\n",
    "# Step 3: Preprocess the Data\n",
    "# Handleing missing values (if any)\n",
    "data = data.dropna()\n",
    "\n",
    "# Normalize/Standardize the nasal airflow signal\n",
    "scaler = StandardScaler() \n",
    "data['nasal_airflow'] = scaler.fit_transform(data[['nasal_airflow']])\n",
    "\n",
    "# Encode labels (convert categorical to numerical)\n",
    "label_encoder = LabelEncoder()\n",
    "data['event'] = label_encoder.fit_transform(data['event'])\n",
    "\n",
    "# Step 4: Prepare Data for Sequence Model (LSTM)\n",
    "# Convert data into sequences\n",
    "def create_sequences(data, timesteps):\n",
    "    X, y = [], []\n",
    "    for i in range(len(data) - timesteps):\n",
    "        X.append(data['nasal_airflow'].iloc[i:i+timesteps])  # Input sequence\n",
    "        y.append(data['event'].iloc[i+timesteps])  # Corresponding label\n",
    "    return np.array(X), np.array(y)\n",
    "\n",
    "timesteps = 100  # Number of timesteps in each sequence\n",
    "X, y = create_sequences(data, timesteps)\n",
    "\n",
    "# Reshape X to be 3D: (samples, timesteps, features)\n",
    "X = X.reshape((X.shape[0], X.shape[1], 1))\n",
    "\n",
    "# Convert y to categorical (one-hot encoding)\n",
    "y = to_categorical(y)\n",
    "\n",
    "# Step 5: Split the Data into Training and Testing Sets\n",
    "X_train, X_test, y_train, y_test = train_test_split(X, y, test_size=0.2, random_state=42)\n",
    "\n",
    "# Step 6: Build the LSTM Model\n",
    "# Define the LSTM model\n",
    "num_classes = 3\n",
    "model = Sequential()\n",
    "model.add(Input(shape=(100, 1)))  # Use Input layer as the first layer\n",
    "model.add(LSTM(50))\n",
    "model.add(Dense(num_classes, activation='softmax'))\n",
    "\n",
    "# Compile the model\n",
    "model.compile(optimizer='adam', loss='categorical_crossentropy', metrics=['accuracy'])\n",
    "\n",
    "# Print the model summary\n",
    "model.summary()\n",
    "\n",
    "# Step 7: Train the LSTM Model\n",
    "# Train the model\n",
    "history = model.fit(X_train, y_train, epochs=10, batch_size=32, validation_data=(X_test, y_test))\n",
    "\n",
    "# Step 8: Evaluate the Model\n",
    "# Evaluate the model on the test set\n",
    "loss, accuracy = model.evaluate(X_test, y_test)\n",
    "print(f\"Test Accuracy: {accuracy:.4f}\")\n",
    "\n",
    "# Plot training history\n",
    "plt.plot(history.history['accuracy'], label='Training Accuracy')\n",
    "plt.plot(history.history['val_accuracy'], label='Validation Accuracy')\n",
    "plt.xlabel('Epoch')\n",
    "plt.ylabel('Accuracy')\n",
    "plt.legend()\n",
    "plt.title('Training and Validation Accuracy')\n",
    "plt.show()\n",
    "\n",
    "# Step 9: Save the Model\n",
    "# Save the trained LSTM model to a file\n",
    "model.save('apnea.keras') # This uses the new Keras format\n",
    "\n",
    "print(\"\\nModel saved as 'apnea_detection_lstm_model.h5'.\")\n",
    "\n",
    "# Step 10: Deploy the Model (Optional)\n"
   ]
  },
  {
   "cell_type": "code",
   "execution_count": null,
   "id": "46d75218-f704-4e1f-82c8-e555e529b043",
   "metadata": {},
   "outputs": [],
   "source": []
  },
  {
   "cell_type": "code",
   "execution_count": null,
   "id": "fdcd701c-6ae6-4f61-8e54-44f953477708",
   "metadata": {},
   "outputs": [],
   "source": []
  }
 ],
 "metadata": {
  "kernelspec": {
   "display_name": "Python 3 (ipykernel)",
   "language": "python",
   "name": "python3"
  },
  "language_info": {
   "codemirror_mode": {
    "name": "ipython",
    "version": 3
   },
   "file_extension": ".py",
   "mimetype": "text/x-python",
   "name": "python",
   "nbconvert_exporter": "python",
   "pygments_lexer": "ipython3",
   "version": "3.12.7"
  }
 },
 "nbformat": 4,
 "nbformat_minor": 5
}
