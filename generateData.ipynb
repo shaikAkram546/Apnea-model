{
 "cells": [
  {
   "cell_type": "code",
   "execution_count": 1,
   "id": "c6121762-ee16-4040-89de-a60edc978cfe",
   "metadata": {},
   "outputs": [],
   "source": [
    "import numpy as np\n",
    "import pandas as pd\n",
    "\n",
    "# Parameters\n",
    "fs = 100  # Sampling frequency (Hz)\n",
    "duration = 600  # Duration of signal in seconds (10 minutes) \n",
    "t = np.arange(0, duration, 1/fs)  # Time vector\n",
    "\n",
    "# Function to generate synthetic respiration signal\n",
    "def generate_respiration_signal():\n",
    "    # Base respiration signal (normal breathing)\n",
    "    respiration_signal = np.sin(2 * np.pi * 0.2 * t)  # 0.2 Hz (12 breaths per minute)\n",
    "    \n",
    "    # Add noise to make the signal more realistic\n",
    "    noise = 0.1 * np.random.normal(size=t.shape)\n",
    "    respiration_signal += noise\n",
    "\n",
    "    # Simulate apnea events (80% reduction in airflow)\n",
    "    apnea_events = np.random.choice([0, 1], size=t.shape, p=[0.95, 0.05])  # 5% chance of apnea\n",
    "    apnea_durations = np.random.randint(5, 15, size=np.sum(apnea_events))  # Varying duration of apnea events\n",
    "    for i, event in enumerate(np.where(apnea_events == 1)[0]):\n",
    "        respiration_signal[event:event+apnea_durations[i]] *= 0.2  # 80% reduction\n",
    "\n",
    "    # Simulate hypopnea events (30% reduction in airflow)\n",
    "    hypopnea_events = np.random.choice([0, 1], size=t.shape, p=[0.9, 0.1])  # 10% chance of hypopnea\n",
    "    hypopnea_durations = np.random.randint(10, 30, size=np.sum(hypopnea_events))  # Varying duration of hypopnea events\n",
    "    for i, event in enumerate(np.where(hypopnea_events == 1)[0]):\n",
    "        respiration_signal[event:event+hypopnea_durations[i]] *= 0.7  # 30% reduction\n",
    "    \n",
    "    return respiration_signal, apnea_events, hypopnea_events\n",
    "\n",
    "# Generate multiple recordings\n",
    "num_recordings = 10\n",
    "data_list = []\n",
    "\n",
    "for i in range(num_recordings):\n",
    "    respiration_signal, apnea_events, hypopnea_events = generate_respiration_signal()\n",
    "    data = pd.DataFrame({\n",
    "        'time': t,\n",
    "        'nasal_airflow': respiration_signal,\n",
    "        'apnea_event': apnea_events,\n",
    "        'hypopnea_event': hypopnea_events,\n",
    "        'event': np.where(apnea_events == 1, 'apnea', np.where(hypopnea_events == 1, 'hypopnea', 'normal'))\n",
    "    })\n",
    "    data['recording'] = i\n",
    "    data_list.append(data)\n",
    "\n",
    "# Combine all recordings into a single DataFrame\n",
    "combined_data = pd.concat(data_list, ignore_index=True)\n",
    "\n",
    "# Save to CSV\n",
    "combined_data.to_csv('enhanced_respiration_data.csv', index=False)"
   ]
  },
  {
   "cell_type": "code",
   "execution_count": null,
   "id": "94daa36f-a272-468c-a3a9-42d7993f1c6d",
   "metadata": {},
   "outputs": [],
   "source": []
  }
 ],
 "metadata": {
  "kernelspec": {
   "display_name": "Python 3 (ipykernel)",
   "language": "python",
   "name": "python3"
  },
  "language_info": {
   "codemirror_mode": {
    "name": "ipython",
    "version": 3
   },
   "file_extension": ".py",
   "mimetype": "text/x-python",
   "name": "python",
   "nbconvert_exporter": "python",
   "pygments_lexer": "ipython3",
   "version": "3.12.7"
  }
 },
 "nbformat": 4,
 "nbformat_minor": 5
}
